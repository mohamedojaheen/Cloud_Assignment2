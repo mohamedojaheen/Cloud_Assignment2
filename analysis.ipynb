{
 "cells": [
  {
   "cell_type": "code",
   "execution_count": 1,
   "id": "2ba15aee-47a5-46be-acb1-1229868c92bb",
   "metadata": {},
   "outputs": [],
   "source": [
    "import pandas as pd"
   ]
  },
  {
   "cell_type": "code",
   "execution_count": 2,
   "id": "7dc4afd7-7438-405b-876b-f4e284872571",
   "metadata": {},
   "outputs": [],
   "source": [
    "df = pd.read_csv('books.csv')"
   ]
  },
  {
   "cell_type": "code",
   "execution_count": 3,
   "id": "7e742846-de1b-4119-ad98-1f201d5e9b48",
   "metadata": {},
   "outputs": [],
   "source": [
    "# Drop unnecessary columns\n",
    "df = df[['book_id', 'authors', 'original_title', 'title', 'average_rating', 'ratings_count']]\n",
    "\n",
    "# Filter the dataset for Harry Potter books\n",
    "harry_potter_books = df[df['authors'].str.contains('J.K. Rowling')]\n",
    "\n",
    "# Sort the books by ratings count in descending order\n",
    "harry_potter_books = harry_potter_books.sort_values('ratings_count', ascending=False)"
   ]
  },
  {
   "cell_type": "code",
   "execution_count": 4,
   "id": "b1cdc9cc-6ca0-45b1-9a1b-0da4265f5f2b",
   "metadata": {},
   "outputs": [],
   "source": [
    "most_selling_books = harry_potter_books[['title', 'ratings_count']].head(5)"
   ]
  },
  {
   "cell_type": "code",
   "execution_count": 6,
   "id": "ebb58f19-f20f-4aa2-83c0-ec5eadee60f7",
   "metadata": {},
   "outputs": [],
   "source": [
    "average_rating = harry_potter_books['average_rating'].mean()"
   ]
  },
  {
   "cell_type": "code",
   "execution_count": 7,
   "id": "46a3127b-59cf-41cf-91cd-e4f63722aadd",
   "metadata": {},
   "outputs": [
    {
     "name": "stdout",
     "output_type": "stream",
     "text": [
      "Most Selling Books in the Harry Potter Series:\n",
      "                                                title  ratings_count\n",
      "1   Harry Potter and the Sorcerer's Stone (Harry P...        4602479\n",
      "6   Harry Potter and the Prisoner of Azkaban (Harr...        1832823\n",
      "9   Harry Potter and the Chamber of Secrets (Harry...        1779331\n",
      "10  Harry Potter and the Goblet of Fire (Harry Pot...        1753043\n",
      "11  Harry Potter and the Deathly Hallows (Harry Po...        1746574\n",
      "\n",
      "Average Rating of the Harry Potter Books:\n",
      "4.438333333333334\n"
     ]
    }
   ],
   "source": [
    "# Print the most selling books\n",
    "print(\"Most Selling Books in the Harry Potter Series:\")\n",
    "print(most_selling_books)\n",
    "\n",
    "# Print the average rating\n",
    "print(\"\\nAverage Rating of the Harry Potter Books:\")\n",
    "print(average_rating)"
   ]
  },
  {
   "cell_type": "code",
   "execution_count": null,
   "id": "54fc9786-b620-4310-9919-960fec044a64",
   "metadata": {},
   "outputs": [],
   "source": []
  }
 ],
 "metadata": {
  "kernelspec": {
   "display_name": "Python 3 (ipykernel)",
   "language": "python",
   "name": "python3"
  },
  "language_info": {
   "codemirror_mode": {
    "name": "ipython",
    "version": 3
   },
   "file_extension": ".py",
   "mimetype": "text/x-python",
   "name": "python",
   "nbconvert_exporter": "python",
   "pygments_lexer": "ipython3",
   "version": "3.8.19"
  }
 },
 "nbformat": 4,
 "nbformat_minor": 5
}
